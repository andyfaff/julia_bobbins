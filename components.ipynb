{
 "cells": [
  {
   "cell_type": "code",
   "execution_count": 1,
   "metadata": {},
   "outputs": [],
   "source": [
    "abstract type Component end\n",
    "abstract type Scatterer end"
   ]
  },
  {
   "cell_type": "code",
   "execution_count": 2,
   "metadata": {},
   "outputs": [
    {
     "data": {
      "text/plain": [
       "| (generic function with 3 methods)"
      ]
     },
     "execution_count": 2,
     "metadata": {},
     "output_type": "execute_result"
    }
   ],
   "source": [
    "struct Structure <: AbstractVector{Component}\n",
    "    components::Vector{Component}\n",
    "end\n",
    "Structure() = Structure([])\n",
    "\n",
    "Base.size(s::Structure) = size(s.components)\n",
    "Base.getindex(s::Structure, i::Int) = s.components[i]\n",
    "Base.IndexStyle(::Type{<:Structure}) = IndexLinear()\n",
    "function Base.push!(s::Structure, items...)\n",
    "    for item in items\n",
    "        push!(s.components, item)\n",
    "    end\n",
    "end\n",
    "function Base.append!(s::Structure, arr::Array{N, 1} where N<:Component)\n",
    "    for item in arr\n",
    "        push!(s.components, item)\n",
    "    end\n",
    "end\n",
    "Base.setindex!(s::Structure, c::Component, i::Int) = setindex!(s.components, c, i)\n",
    "\n",
    "mutable struct SLD <: Scatterer\n",
    "    real\n",
    "    imag\n",
    "    SLD(real) = new(real, 0.0)\n",
    "    SLD(real, imag) = new(real, imag)\n",
    "end\n",
    "\n",
    "mutable struct Slab <: Component\n",
    "    thickness\n",
    "    scatterer::Scatterer\n",
    "    roughness\n",
    "    vfsolv\n",
    "end\n",
    "\n",
    "(|)(a::Component, b::Component) = Structure([a, b])\n",
    "function |(s::Structure, b::Component)\n",
    "    push!(s, b)\n",
    "    s\n",
    "end\n",
    "function |(s::Structure, arr::Array{N, 1} where N<:Component)\n",
    "    append!(s, arr)\n",
    "    s\n",
    "end"
   ]
  },
  {
   "cell_type": "code",
   "execution_count": 3,
   "metadata": {},
   "outputs": [
    {
     "data": {
      "text/plain": [
       "(Slab(1.0, SLD(2.0, 1), 3.0, 4.0), Slab(1.0, SLD(2.0, 0.0), 3.0, 4.0))"
      ]
     },
     "execution_count": 3,
     "metadata": {},
     "output_type": "execute_result"
    }
   ],
   "source": [
    "s = Slab(1.0, SLD(2.0, 1), 3.0, 4.0)\n",
    "t = Slab(1.0, SLD(2.0), 3.0, 4.0)\n",
    "s, t"
   ]
  },
  {
   "cell_type": "code",
   "execution_count": 4,
   "metadata": {},
   "outputs": [
    {
     "data": {
      "text/plain": [
       "2-element Structure:\n",
       " Slab(1.0, SLD(2.0, 1), 3.0, 4.0)\n",
       " Slab(1.0, SLD(2.0, 0.0), 3.0, 4.0)"
      ]
     },
     "execution_count": 4,
     "metadata": {},
     "output_type": "execute_result"
    }
   ],
   "source": [
    "Structure([s, t])"
   ]
  },
  {
   "cell_type": "code",
   "execution_count": 7,
   "metadata": {},
   "outputs": [
    {
     "data": {
      "text/plain": [
       "3-element Structure:\n",
       " Slab(1.0, SLD(2.0, 1), 3.0, 4.0)\n",
       " Slab(1.0, SLD(2.0, 0.0), 3.0, 4.0)\n",
       " Slab(1.0, SLD(2.0, 1), 3.0, 4.0)"
      ]
     },
     "execution_count": 7,
     "metadata": {},
     "output_type": "execute_result"
    }
   ],
   "source": [
    "p = s | t | s"
   ]
  },
  {
   "cell_type": "code",
   "execution_count": 9,
   "metadata": {},
   "outputs": [
    {
     "ename": "LoadError",
     "evalue": "MethodError: no method matching |(::Structure, ::Int64)\nClosest candidates are:\n  |(::Structure, !Matched::Component) at In[2]:37\n  |(::Structure, !Matched::Array{N,1} where N<:Component) at In[2]:41",
     "output_type": "error",
     "traceback": [
      "MethodError: no method matching |(::Structure, ::Int64)\nClosest candidates are:\n  |(::Structure, !Matched::Component) at In[2]:37\n  |(::Structure, !Matched::Array{N,1} where N<:Component) at In[2]:41",
      "",
      "Stacktrace:",
      " [1] top-level scope at In[9]:1",
      " [2] include_string(::Function, ::Module, ::String, ::String) at ./loading.jl:1091"
     ]
    }
   ],
   "source": [
    "p |= 2"
   ]
  },
  {
   "cell_type": "code",
   "execution_count": null,
   "metadata": {},
   "outputs": [],
   "source": [
    "println(objectid(p))\n",
    "p = p | t\n",
    "println(objectid(p))\n",
    "p"
   ]
  },
  {
   "cell_type": "code",
   "execution_count": null,
   "metadata": {},
   "outputs": [],
   "source": [
    "println(objectid(p))\n",
    "p |= t\n",
    "println(objectid(p))\n",
    "p"
   ]
  },
  {
   "cell_type": "code",
   "execution_count": null,
   "metadata": {},
   "outputs": [],
   "source": [
    "println(objectid(p))\n",
    "p |= [s, t]\n",
    "println(objectid(p))\n",
    "p"
   ]
  },
  {
   "cell_type": "code",
   "execution_count": null,
   "metadata": {},
   "outputs": [],
   "source": [
    "s==t, isequal(s, t), s===t"
   ]
  },
  {
   "cell_type": "code",
   "execution_count": null,
   "metadata": {},
   "outputs": [],
   "source": [
    "s.thickness == t.thickness"
   ]
  },
  {
   "cell_type": "code",
   "execution_count": null,
   "metadata": {},
   "outputs": [],
   "source": [
    "push!(p, s, t)\n",
    "p"
   ]
  },
  {
   "cell_type": "code",
   "execution_count": null,
   "metadata": {},
   "outputs": [],
   "source": [
    "append!(p, [s, t])\n",
    "p"
   ]
  },
  {
   "cell_type": "code",
   "execution_count": null,
   "metadata": {},
   "outputs": [],
   "source": [
    "for l in p\n",
    "    println(l)\n",
    "end"
   ]
  },
  {
   "cell_type": "code",
   "execution_count": null,
   "metadata": {},
   "outputs": [],
   "source": [
    "eltype(p)"
   ]
  },
  {
   "cell_type": "code",
   "execution_count": null,
   "metadata": {},
   "outputs": [],
   "source": [
    "t in p"
   ]
  },
  {
   "cell_type": "code",
   "execution_count": null,
   "metadata": {},
   "outputs": [],
   "source": [
    "in(t, p)"
   ]
  },
  {
   "cell_type": "code",
   "execution_count": null,
   "metadata": {},
   "outputs": [],
   "source": [
    "p |= [s, t]\n",
    "p"
   ]
  },
  {
   "cell_type": "code",
   "execution_count": null,
   "metadata": {},
   "outputs": [],
   "source": [
    "p |=  [s, t]\n",
    "p"
   ]
  },
  {
   "cell_type": "code",
   "execution_count": null,
   "metadata": {},
   "outputs": [],
   "source": [
    "typeof(p)"
   ]
  },
  {
   "cell_type": "code",
   "execution_count": null,
   "metadata": {},
   "outputs": [],
   "source": [
    "objectid(p)"
   ]
  },
  {
   "cell_type": "code",
   "execution_count": null,
   "metadata": {},
   "outputs": [],
   "source": [
    "p |= [s, t]\n",
    "objectid(p)"
   ]
  },
  {
   "cell_type": "code",
   "execution_count": null,
   "metadata": {},
   "outputs": [],
   "source": [
    "p | [s, t]"
   ]
  },
  {
   "cell_type": "code",
   "execution_count": null,
   "metadata": {},
   "outputs": [],
   "source": [
    "objectid(p)"
   ]
  },
  {
   "cell_type": "code",
   "execution_count": null,
   "metadata": {},
   "outputs": [],
   "source": [
    "items = [1,2,3]"
   ]
  },
  {
   "cell_type": "code",
   "execution_count": null,
   "metadata": {},
   "outputs": [],
   "source": [
    "[item for item in items]"
   ]
  },
  {
   "cell_type": "code",
   "execution_count": null,
   "metadata": {},
   "outputs": [],
   "source": [
    "[item for item in items]"
   ]
  }
 ],
 "metadata": {
  "kernelspec": {
   "display_name": "Julia 1.5.3",
   "language": "julia",
   "name": "julia-1.5"
  },
  "language_info": {
   "file_extension": ".jl",
   "mimetype": "application/julia",
   "name": "julia",
   "version": "1.5.3"
  }
 },
 "nbformat": 4,
 "nbformat_minor": 4
}
