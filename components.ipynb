{
 "cells": [
  {
   "cell_type": "code",
   "execution_count": 1,
   "metadata": {},
   "outputs": [],
   "source": [
    "using Distributions\n",
    "\n",
    "abstract type Component end\n",
    "abstract type Scatterer end"
   ]
  },
  {
   "cell_type": "code",
   "execution_count": 2,
   "metadata": {},
   "outputs": [
    {
     "data": {
      "text/plain": [
       "| (generic function with 3 methods)"
      ]
     },
     "execution_count": 2,
     "metadata": {},
     "output_type": "execute_result"
    }
   ],
   "source": [
    "mutable struct Parameter\n",
    "    value::Real\n",
    "    vary::Bool\n",
    "    bounds::Distribution\n",
    "    name::Union{String, Symbol}\n",
    "    function Parameter(value::Real;\n",
    "            vary::Bool=false,\n",
    "            bounds::Distribution=Uniform(-Inf, Inf),\n",
    "            name::Union{String, Symbol}=\"\"\n",
    "        )\n",
    "        new(value, vary, bounds, name)\n",
    "    end\n",
    "end\n",
    "\n",
    "build_parameter(p::Union{Parameter, Real}) = isa(p, Parameter) ? p : Parameter(p)\n",
    "\n",
    "\n",
    "struct Structure <: AbstractVector{Component}\n",
    "    components::Vector{Component}\n",
    "end\n",
    "Structure() = Structure([])\n",
    "\n",
    "Base.size(s::Structure) = size(s.components)\n",
    "Base.getindex(s::Structure, i::Int) = s.components[i]\n",
    "Base.IndexStyle(::Type{<:Structure}) = IndexLinear()\n",
    "function Base.push!(s::Structure, items...)\n",
    "    for item in items\n",
    "        push!(s.components, item)\n",
    "    end\n",
    "end\n",
    "function Base.append!(s::Structure, arr::Array{N, 1} where N<:Component)\n",
    "    for item in arr\n",
    "        push!(s.components, item)\n",
    "    end\n",
    "end\n",
    "Base.setindex!(s::Structure, c::Component, i::Int) = setindex!(s.components, c, i)\n",
    "\n",
    "\n",
    "mutable struct SLD <: Scatterer\n",
    "    re::Parameter\n",
    "    im::Parameter\n",
    "    SLD(re::Union{Real, Parameter}) = new(build_parameter(re), Parameter(0.0))\n",
    "    SLD(re::Union{Real, Parameter}, im::Union{Real, Parameter}) = new(\n",
    "        build_parameter(re), build_parameter(im)\n",
    "    )\n",
    "    SLD(sld::Complex) = new(Parameter(sld.re), Parameter(sld.im))\n",
    "end\n",
    "sld(s::SLD) = s.re.value + 1.0im * s.im.value\n",
    "\n",
    "\n",
    "mutable struct Slab <: Component\n",
    "    thickness::Parameter\n",
    "    scatterer::Scatterer\n",
    "    roughness::Parameter\n",
    "    vfsolv::Parameter\n",
    "    function Slab(thickness::Union{Parameter, Real},\n",
    "        scatterer::Union{Scatterer, Real, Complex, Tuple{Real, Real}},\n",
    "        roughness::Union{Parameter, Real},\n",
    "        vfsolv::Union{Parameter, Real})\n",
    "        if isa(scatterer, Scatterer)\n",
    "            s = scatterer\n",
    "        else\n",
    "            s = SLD(scatterer)\n",
    "        end\n",
    "        new(build_parameter(thickness), s, build_parameter(roughness), build_parameter(vfsolv)\n",
    "    )\n",
    "    end\n",
    "end\n",
    "function slabs(slab::Slab)\n",
    "    sldv = sld(slab.scatterer)\n",
    "    return [slab.thickness.value, sldv.re, sldv.im, slab.roughness.value]\n",
    "end\n",
    "\n",
    "\n",
    "(|)(a::Component, b::Component) = Structure([a, b])\n",
    "function |(s::Structure, b::Component)\n",
    "    push!(s, b)\n",
    "    s\n",
    "end\n",
    "function |(s::Structure, arr::Array{N, 1} where N<:Component)\n",
    "    append!(s, arr)\n",
    "    s\n",
    "end"
   ]
  },
  {
   "cell_type": "code",
   "execution_count": 3,
   "metadata": {},
   "outputs": [
    {
     "data": {
      "text/plain": [
       "Parameter(2.07, false, Uniform{Float64}(a=-Inf, b=Inf), \"Si\")"
      ]
     },
     "execution_count": 3,
     "metadata": {},
     "output_type": "execute_result"
    }
   ],
   "source": [
    "p = Parameter(2.07; vary=false, name=\"Si\")"
   ]
  },
  {
   "cell_type": "code",
   "execution_count": 4,
   "metadata": {},
   "outputs": [
    {
     "data": {
      "text/plain": [
       "SLD(Parameter(2.07, false, Uniform{Float64}(a=-Inf, b=Inf), \"Si\"), Parameter(0.0, false, Uniform{Float64}(a=-Inf, b=Inf), \"\"))"
      ]
     },
     "execution_count": 4,
     "metadata": {},
     "output_type": "execute_result"
    }
   ],
   "source": [
    "si = SLD(p)"
   ]
  },
  {
   "cell_type": "code",
   "execution_count": 12,
   "metadata": {},
   "outputs": [
    {
     "data": {
      "text/plain": [
       "Slab(Parameter(100, false, Uniform{Float64}(a=-Inf, b=Inf), \"\"), SLD(Parameter(2.07, false, Uniform{Float64}(a=-Inf, b=Inf), \"\"), Parameter(0.0, false, Uniform{Float64}(a=-Inf, b=Inf), \"\")), Parameter(0, false, Uniform{Float64}(a=-Inf, b=Inf), \"\"), Parameter(4, false, Uniform{Float64}(a=-Inf, b=Inf), \"\"))"
      ]
     },
     "execution_count": 12,
     "metadata": {},
     "output_type": "execute_result"
    }
   ],
   "source": [
    "s = Slab(100, 2.07, 0, 4)"
   ]
  },
  {
   "cell_type": "code",
   "execution_count": 6,
   "metadata": {},
   "outputs": [
    {
     "data": {
      "text/plain": [
       "2.07 + 0.0im"
      ]
     },
     "execution_count": 6,
     "metadata": {},
     "output_type": "execute_result"
    }
   ],
   "source": [
    "sld(s.scatterer)"
   ]
  },
  {
   "cell_type": "code",
   "execution_count": 7,
   "metadata": {},
   "outputs": [
    {
     "data": {
      "text/plain": [
       "4-element Array{Any,1}:\n",
       "  Parameter(100, false, Uniform{Float64}(a=-Inf, b=Inf), \"\")\n",
       " 2.07\n",
       " 0.0\n",
       "  Parameter(0, false, Uniform{Float64}(a=-Inf, b=Inf), \"\")"
      ]
     },
     "execution_count": 7,
     "metadata": {},
     "output_type": "execute_result"
    }
   ],
   "source": [
    "slabs(s)"
   ]
  },
  {
   "cell_type": "code",
   "execution_count": 19,
   "metadata": {},
   "outputs": [
    {
     "data": {
      "text/plain": [
       "true"
      ]
     },
     "execution_count": 19,
     "metadata": {},
     "output_type": "execute_result"
    }
   ],
   "source": [
    "isa(true, Real)"
   ]
  },
  {
   "cell_type": "code",
   "execution_count": 20,
   "metadata": {},
   "outputs": [
    {
     "ename": "LoadError",
     "evalue": "MethodError: Cannot `convert` an object of type String to an object of type Real\nClosest candidates are:\n  convert(::Type{T}, !Matched::T) where T<:Number at number.jl:6\n  convert(::Type{T}, !Matched::Number) where T<:Number at number.jl:7\n  convert(::Type{T}, !Matched::Base.TwicePrecision) where T<:Number at twiceprecision.jl:250\n  ...",
     "output_type": "error",
     "traceback": [
      "MethodError: Cannot `convert` an object of type String to an object of type Real\nClosest candidates are:\n  convert(::Type{T}, !Matched::T) where T<:Number at number.jl:6\n  convert(::Type{T}, !Matched::Number) where T<:Number at number.jl:7\n  convert(::Type{T}, !Matched::Base.TwicePrecision) where T<:Number at twiceprecision.jl:250\n  ...",
      "",
      "Stacktrace:",
      " [1] setproperty!(::Parameter, ::Symbol, ::String) at ./Base.jl:34",
      " [2] top-level scope at In[20]:1",
      " [3] include_string(::Function, ::Module, ::String, ::String) at ./loading.jl:1091"
     ]
    }
   ],
   "source": [
    "s.thickness.value = \"a\""
   ]
  },
  {
   "cell_type": "code",
   "execution_count": null,
   "metadata": {},
   "outputs": [],
   "source": [
    "s = Slab(1.0, SLD(2.0, 1), 3.0, 4.0)\n",
    "t = Slab(1.0, si, 3.0, 4.0)\n",
    "s, t"
   ]
  },
  {
   "cell_type": "code",
   "execution_count": null,
   "metadata": {},
   "outputs": [],
   "source": [
    "Structure([s, t])"
   ]
  },
  {
   "cell_type": "code",
   "execution_count": null,
   "metadata": {},
   "outputs": [],
   "source": [
    "p = s | t | s"
   ]
  },
  {
   "cell_type": "code",
   "execution_count": null,
   "metadata": {},
   "outputs": [],
   "source": [
    "p |= 2"
   ]
  },
  {
   "cell_type": "code",
   "execution_count": null,
   "metadata": {},
   "outputs": [],
   "source": [
    "println(objectid(p))\n",
    "p = p | t\n",
    "println(objectid(p))\n",
    "p"
   ]
  },
  {
   "cell_type": "code",
   "execution_count": null,
   "metadata": {},
   "outputs": [],
   "source": [
    "println(objectid(p))\n",
    "p |= t\n",
    "println(objectid(p))\n",
    "p"
   ]
  },
  {
   "cell_type": "code",
   "execution_count": null,
   "metadata": {},
   "outputs": [],
   "source": [
    "println(objectid(p))\n",
    "p |= [s, t]\n",
    "println(objectid(p))\n",
    "p"
   ]
  },
  {
   "cell_type": "code",
   "execution_count": null,
   "metadata": {},
   "outputs": [],
   "source": [
    "s==t, isequal(s, t), s===t"
   ]
  },
  {
   "cell_type": "code",
   "execution_count": null,
   "metadata": {},
   "outputs": [],
   "source": [
    "s.thickness == t.thickness"
   ]
  },
  {
   "cell_type": "code",
   "execution_count": null,
   "metadata": {},
   "outputs": [],
   "source": [
    "push!(p, s, t)\n",
    "p"
   ]
  },
  {
   "cell_type": "code",
   "execution_count": null,
   "metadata": {},
   "outputs": [],
   "source": [
    "append!(p, [s, t])\n",
    "p"
   ]
  },
  {
   "cell_type": "code",
   "execution_count": null,
   "metadata": {},
   "outputs": [],
   "source": [
    "for l in p\n",
    "    println(l)\n",
    "end"
   ]
  },
  {
   "cell_type": "code",
   "execution_count": null,
   "metadata": {},
   "outputs": [],
   "source": [
    "eltype(p)"
   ]
  },
  {
   "cell_type": "code",
   "execution_count": null,
   "metadata": {},
   "outputs": [],
   "source": [
    "t in p"
   ]
  },
  {
   "cell_type": "code",
   "execution_count": null,
   "metadata": {},
   "outputs": [],
   "source": [
    "in(t, p)"
   ]
  },
  {
   "cell_type": "code",
   "execution_count": null,
   "metadata": {},
   "outputs": [],
   "source": [
    "p |= [s, t]\n",
    "p"
   ]
  },
  {
   "cell_type": "code",
   "execution_count": null,
   "metadata": {},
   "outputs": [],
   "source": [
    "p |=  [s, t]\n",
    "p"
   ]
  },
  {
   "cell_type": "code",
   "execution_count": null,
   "metadata": {},
   "outputs": [],
   "source": [
    "using Distributions"
   ]
  },
  {
   "cell_type": "code",
   "execution_count": null,
   "metadata": {},
   "outputs": [],
   "source": [
    "import Pkg; Pkg.add(\"Distributions\")"
   ]
  },
  {
   "cell_type": "code",
   "execution_count": null,
   "metadata": {},
   "outputs": [],
   "source": [
    "using Distributions"
   ]
  },
  {
   "cell_type": "code",
   "execution_count": null,
   "metadata": {},
   "outputs": [],
   "source": [
    "n = Normal(0, 1)"
   ]
  },
  {
   "cell_type": "code",
   "execution_count": null,
   "metadata": {},
   "outputs": [],
   "source": [
    "pdf(n, 2.0)"
   ]
  },
  {
   "cell_type": "code",
   "execution_count": null,
   "metadata": {},
   "outputs": [],
   "source": [
    "typeof(n)"
   ]
  },
  {
   "cell_type": "code",
   "execution_count": null,
   "metadata": {},
   "outputs": [],
   "source": [
    "isa(n, Distribution)"
   ]
  },
  {
   "cell_type": "code",
   "execution_count": null,
   "metadata": {},
   "outputs": [],
   "source": [
    "ValueSupport"
   ]
  },
  {
   "cell_type": "code",
   "execution_count": null,
   "metadata": {},
   "outputs": [],
   "source": [
    "u = Uniform(-10, 10)"
   ]
  },
  {
   "cell_type": "code",
   "execution_count": null,
   "metadata": {},
   "outputs": [],
   "source": [
    "pdf(u, 0)"
   ]
  },
  {
   "cell_type": "code",
   "execution_count": null,
   "metadata": {},
   "outputs": [],
   "source": [
    "f(x) = isa(x, Real) ? x : \"a\""
   ]
  },
  {
   "cell_type": "code",
   "execution_count": null,
   "metadata": {},
   "outputs": [],
   "source": [
    "f(\"b\")"
   ]
  },
  {
   "cell_type": "code",
   "execution_count": null,
   "metadata": {},
   "outputs": [],
   "source": []
  }
 ],
 "metadata": {
  "kernelspec": {
   "display_name": "Julia 1.5.3",
   "language": "julia",
   "name": "julia-1.5"
  },
  "language_info": {
   "file_extension": ".jl",
   "mimetype": "application/julia",
   "name": "julia",
   "version": "1.5.3"
  }
 },
 "nbformat": 4,
 "nbformat_minor": 4
}
