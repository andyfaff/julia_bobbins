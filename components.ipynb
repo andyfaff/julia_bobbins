{
 "cells": [
  {
   "cell_type": "code",
   "execution_count": 1,
   "metadata": {},
   "outputs": [],
   "source": [
    "import Base: |, size, getindex\n",
    "abstract type Component end\n",
    "abstract type Scatterer end"
   ]
  },
  {
   "cell_type": "code",
   "execution_count": 2,
   "metadata": {},
   "outputs": [
    {
     "data": {
      "text/plain": [
       "| (generic function with 18 methods)"
      ]
     },
     "execution_count": 2,
     "metadata": {},
     "output_type": "execute_result"
    }
   ],
   "source": [
    "struct Structure <: AbstractArray{Component, 1}\n",
    "    components::Array{Component}\n",
    "end\n",
    "\n",
    "function size(s::Structure)\n",
    "    return size(s.components)\n",
    "end\n",
    "\n",
    "function getindex(s::Structure, i::Int)\n",
    "    return s.components[i]\n",
    "end\n",
    "\n",
    "mutable struct SLD <: Scatterer\n",
    "    real\n",
    "    imag\n",
    "end\n",
    "\n",
    "mutable struct Slab <: Component\n",
    "    thickness\n",
    "    scatterer::Scatterer\n",
    "    roughness\n",
    "    vfsolv\n",
    "end\n",
    "\n",
    "function |(a::Component, b::Component)\n",
    "    return Structure([a, b])\n",
    "end\n",
    "\n",
    "function |(a::Component, b::Component)\n",
    "    return Structure([a, b])\n",
    "end"
   ]
  },
  {
   "cell_type": "code",
   "execution_count": 11,
   "metadata": {},
   "outputs": [
    {
     "data": {
      "text/plain": [
       "Slab(1.0, SLD(2.0, 0), 3.0, 4.0)"
      ]
     },
     "execution_count": 11,
     "metadata": {},
     "output_type": "execute_result"
    }
   ],
   "source": [
    "s = Slab(1.0, SLD(2.0, 0), 3.0, 4.0)\n",
    "t = Slab(1.0, SLD(2.0, 0), 3.0, 4.0)"
   ]
  },
  {
   "cell_type": "code",
   "execution_count": 12,
   "metadata": {},
   "outputs": [
    {
     "data": {
      "text/plain": [
       "true"
      ]
     },
     "execution_count": 12,
     "metadata": {},
     "output_type": "execute_result"
    }
   ],
   "source": [
    "isa(s, Component)"
   ]
  },
  {
   "cell_type": "code",
   "execution_count": 13,
   "metadata": {},
   "outputs": [
    {
     "data": {
      "text/plain": [
       "SLD(2.0, 0)"
      ]
     },
     "execution_count": 13,
     "metadata": {},
     "output_type": "execute_result"
    }
   ],
   "source": [
    "s.scatterer"
   ]
  },
  {
   "cell_type": "code",
   "execution_count": 14,
   "metadata": {},
   "outputs": [
    {
     "data": {
      "text/plain": [
       "2-element Structure:\n",
       " Slab(1.0, SLD(2.0, 0), 3.0, 4.0)\n",
       " Slab(1.0, SLD(2.0, 0), 3.0, 4.0)"
      ]
     },
     "execution_count": 14,
     "metadata": {},
     "output_type": "execute_result"
    }
   ],
   "source": [
    "p = Structure([s, t])"
   ]
  },
  {
   "cell_type": "code",
   "execution_count": 15,
   "metadata": {},
   "outputs": [
    {
     "data": {
      "text/plain": [
       "2-element Structure:\n",
       " Slab(1.0, SLD(2.0, 0), 3.0, 4.0)\n",
       " Slab(1.0, SLD(2.0, 0), 3.0, 4.0)"
      ]
     },
     "execution_count": 15,
     "metadata": {},
     "output_type": "execute_result"
    }
   ],
   "source": [
    "p = s | t"
   ]
  },
  {
   "cell_type": "code",
   "execution_count": 16,
   "metadata": {},
   "outputs": [
    {
     "data": {
      "text/plain": [
       "(false, false, false)"
      ]
     },
     "execution_count": 16,
     "metadata": {},
     "output_type": "execute_result"
    }
   ],
   "source": [
    "s==t, isequal(s, t), s===t"
   ]
  },
  {
   "cell_type": "code",
   "execution_count": 17,
   "metadata": {},
   "outputs": [
    {
     "data": {
      "text/plain": [
       "true"
      ]
     },
     "execution_count": 17,
     "metadata": {},
     "output_type": "execute_result"
    }
   ],
   "source": [
    "s.thickness == t.thickness"
   ]
  },
  {
   "cell_type": "code",
   "execution_count": 18,
   "metadata": {},
   "outputs": [
    {
     "data": {
      "text/plain": [
       "2-element Structure:\n",
       " Slab(1.0, SLD(2.0, 0), 3.0, 4.0)\n",
       " Slab(1.0, SLD(2.0, 0), 3.0, 4.0)"
      ]
     },
     "execution_count": 18,
     "metadata": {},
     "output_type": "execute_result"
    }
   ],
   "source": [
    "p"
   ]
  },
  {
   "cell_type": "code",
   "execution_count": 19,
   "metadata": {},
   "outputs": [
    {
     "data": {
      "text/plain": [
       "10.0"
      ]
     },
     "execution_count": 19,
     "metadata": {},
     "output_type": "execute_result"
    }
   ],
   "source": [
    "t.thickness=10.0"
   ]
  },
  {
   "cell_type": "code",
   "execution_count": 20,
   "metadata": {},
   "outputs": [
    {
     "data": {
      "text/plain": [
       "2-element Structure:\n",
       " Slab(1.0, SLD(2.0, 0), 3.0, 4.0)\n",
       " Slab(10.0, SLD(2.0, 0), 3.0, 4.0)"
      ]
     },
     "execution_count": 20,
     "metadata": {},
     "output_type": "execute_result"
    }
   ],
   "source": [
    "p"
   ]
  },
  {
   "cell_type": "code",
   "execution_count": null,
   "metadata": {},
   "outputs": [],
   "source": []
  }
 ],
 "metadata": {
  "kernelspec": {
   "display_name": "Julia 1.5.3",
   "language": "julia",
   "name": "julia-1.5"
  },
  "language_info": {
   "file_extension": ".jl",
   "mimetype": "application/julia",
   "name": "julia",
   "version": "1.5.3"
  }
 },
 "nbformat": 4,
 "nbformat_minor": 4
}
