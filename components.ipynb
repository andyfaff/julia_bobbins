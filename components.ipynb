{
 "cells": [
  {
   "cell_type": "code",
   "execution_count": 17,
   "metadata": {},
   "outputs": [],
   "source": [
    "using Distributions\n",
    "using Plots\n",
    "\n",
    "abstract type Component end\n",
    "abstract type Scatterer end"
   ]
  },
  {
   "cell_type": "code",
   "execution_count": 2,
   "metadata": {},
   "outputs": [],
   "source": [
    "# data stuff\n",
    "using DelimitedFiles\n",
    "\n",
    "\n",
    "mutable struct Data1D\n",
    "    x::Vector\n",
    "    y::Vector\n",
    "    yerr::Union{Vector, Nothing}\n",
    "    xerr::Union{Vector, Nothing}\n",
    "    fname::Union{String, Nothing}\n",
    "    Data1D(x::Vector, y::Vector) = new(x, y, nothing, nothing, nothing)\n",
    "    Data1D(x::Vector, y::Vector, yerr::Vector) = new(x, y, yerr, nothing)\n",
    "    Data1D(x::Vector, y::Vector, yerr::Vector, xerr::Vector) = new(x, y, yerr, xerr)\n",
    "    Data1D(x::Vector, y::Vector; yerr::Vector, xerr::Vector) = new(x, y, yerr, xerr)\n",
    "    function Data1D(x::Vector, y::Vector;\n",
    "            yerr::Vector,\n",
    "            xerr::Vector\n",
    "        )\n",
    "        new(x, y, yerr, xerr)\n",
    "    end\n",
    "    Data1D(filename::String) = read_data(filename)\n",
    "end\n",
    "\n",
    "\n",
    "function read_data(filename::String; delim=nothing)\n",
    "    if delim === nothing\n",
    "        arr = readdlm(filename)\n",
    "    else\n",
    "        arr = readdlm(filename, delim)\n",
    "    end\n",
    "    nrows, ncols = size(arr)\n",
    "\n",
    "    if ncols == 2\n",
    "        data = Data1D(arr[:, 1], arr[:, 2], nothing, nothing)\n",
    "    elseif ncols == 3\n",
    "        data = Data1D(arr[:, 1], arr[:, 2], arr[:, 3], nothing)\n",
    "    elseif ncols == 4\n",
    "        data = Data1D(arr[:, 1], arr[:, 2], arr[:, 3], arr[:, 4])\n",
    "    end\n",
    "    data.fname = filename\n",
    "    return data\n",
    "end\n",
    "\n",
    "\n",
    "function refresh!(data::Data1D)\n",
    "   data_updated = read_data(data.fname)\n",
    "   data.x = data_updated.x\n",
    "   data.y = data_updated.y\n",
    "   data.yerr = data_updated.yerr\n",
    "   data.xerr = data_updated.xerr\n",
    "   return nothing\n",
    "end\n",
    "\n",
    "\n",
    "function Base.size(data::Data1D)\n",
    "    return size(data.x)\n",
    "end\n",
    "\n",
    "function Base.length(data::Data1D)\n",
    "    return length(data.x)\n",
    "end\n",
    "\n",
    "Plots.plot(data::Data1D) = plot(data.x, data.y, yaxis=:log)\n",
    "Plots.plot!(data::Data1D) = plot!(data.x, data.y, yaxis=:log)"
   ]
  },
  {
   "cell_type": "code",
   "execution_count": 3,
   "metadata": {},
   "outputs": [
    {
     "data": {
      "text/plain": [
       "build_parameter (generic function with 1 method)"
      ]
     },
     "execution_count": 3,
     "metadata": {},
     "output_type": "execute_result"
    }
   ],
   "source": [
    "# parameters\n",
    "\n",
    "mutable struct Parameter\n",
    "    value::Real\n",
    "    vary::Bool\n",
    "    bounds::Distribution\n",
    "    name::Union{String, Symbol}\n",
    "    function Parameter(value::Real;\n",
    "            vary::Bool=false,\n",
    "            bounds::Distribution=Uniform(-Inf, Inf),\n",
    "            name::Union{String, Symbol}=\"\"\n",
    "        )\n",
    "        new(value, vary, bounds, name)\n",
    "    end\n",
    "end\n",
    "\n",
    "build_parameter(p::Union{Parameter, Real}) = isa(p, Parameter) ? p : Parameter(p)"
   ]
  },
  {
   "cell_type": "code",
   "execution_count": 4,
   "metadata": {},
   "outputs": [
    {
     "data": {
      "text/plain": [
       "| (generic function with 3 methods)"
      ]
     },
     "execution_count": 4,
     "metadata": {},
     "output_type": "execute_result"
    }
   ],
   "source": [
    "# Structure and reflectometry stuff\n",
    "\n",
    "struct Structure <: AbstractVector{Component}\n",
    "    components::Vector{Component}\n",
    "end\n",
    "Structure() = Structure([])\n",
    "\n",
    "Base.size(s::Structure) = size(s.components)\n",
    "Base.getindex(s::Structure, i::Int) = s.components[i]\n",
    "Base.IndexStyle(::Type{<:Structure}) = IndexLinear()\n",
    "function Base.push!(s::Structure, items...)\n",
    "    for item in items\n",
    "        push!(s.components, item)\n",
    "    end\n",
    "end\n",
    "function Base.append!(s::Structure, arr::Array{N, 1} where N<:Component)\n",
    "    for item in arr\n",
    "        push!(s.components, item)\n",
    "    end\n",
    "end\n",
    "Base.setindex!(s::Structure, c::Component, i::Int) = setindex!(s.components, c, i)\n",
    "\n",
    "\n",
    "mutable struct SLD <: Scatterer\n",
    "    re::Parameter\n",
    "    im::Parameter\n",
    "    SLD(re::Union{Real, Parameter}) = new(build_parameter(re), Parameter(0.0))\n",
    "    SLD(re::Union{Real, Parameter}, im::Union{Real, Parameter}) = new(\n",
    "        build_parameter(re), build_parameter(im)\n",
    "    )\n",
    "    SLD(sld::Complex) = new(Parameter(sld.re), Parameter(sld.im))\n",
    "end\n",
    "sld(s::SLD) = s.re.value + 1.0im * s.im.value\n",
    "\n",
    "\n",
    "mutable struct Slab <: Component\n",
    "    thickness::Parameter\n",
    "    scatterer::Scatterer\n",
    "    roughness::Parameter\n",
    "    vfsolv::Parameter\n",
    "    function Slab(thickness::Union{Parameter, Real},\n",
    "        scatterer::Union{Scatterer, Real, Complex, Tuple{Real, Real}},\n",
    "        roughness::Union{Parameter, Real},\n",
    "        vfsolv::Union{Parameter, Real})\n",
    "        if isa(scatterer, Scatterer)\n",
    "            s = scatterer\n",
    "        else\n",
    "            s = SLD(scatterer)\n",
    "        end\n",
    "        new(build_parameter(thickness), s, build_parameter(roughness), build_parameter(vfsolv)\n",
    "    )\n",
    "    end\n",
    "end\n",
    "function slabs(slab::Slab)\n",
    "    sldv = sld(slab.scatterer)\n",
    "    return [slab.thickness.value, sldv.re, sldv.im, slab.roughness.value]\n",
    "end\n",
    "\n",
    "\n",
    "(|)(a::Component, b::Component) = Structure([a, b])\n",
    "function |(s::Structure, b::Component)\n",
    "    push!(s, b)\n",
    "    s\n",
    "end\n",
    "function |(s::Structure, arr::Array{N, 1} where N<:Component)\n",
    "    append!(s, arr)\n",
    "    s\n",
    "end"
   ]
  },
  {
   "cell_type": "code",
   "execution_count": 5,
   "metadata": {},
   "outputs": [
    {
     "data": {
      "text/plain": [
       "Data1D([0.00806022, 0.00813662, 0.00826375, 0.00837067, 0.00845033, 0.00853083, 0.00861217, 0.00869437, 0.00877743, 0.00886136  …  0.42568, 0.429936, 0.434235, 0.438577, 0.442962, 0.447391, 0.451865, 0.456383, 0.460946, 0.465555], [0.709581, 0.862281, 0.908647, 0.773292, 1.05797, 1.01566, 0.734717, 0.769216, 1.11574, 0.972303  …  4.01737e-7, 3.17279e-7, 5.50631e-7, 5.0851e-7, 6.02593e-7, 4.38454e-7, 3.38757e-7, 4.35846e-7, 3.85579e-7, 3.83415e-7], [0.0850676, 0.11237, 0.0790047, 0.0792728, 0.125959, 0.113295, 0.0611566, 0.0617058, 0.11273, 0.089716  …  1.53814e-7, 1.6913e-7, 1.61142e-7, 1.6499e-7, 1.73835e-7, 1.6535e-7, 1.87639e-7, 1.97826e-7, 1.76143e-7, 1.88454e-7], [0.000331422, 0.000334619, 0.000339939, 0.000344412, 0.000347744, 0.000351111, 0.000354512, 0.000357949, 0.000361421, 0.000364929  …  0.0201807, 0.0204321, 0.0206873, 0.0209465, 0.0212097, 0.0214771, 0.0217487, 0.0220245, 0.0223047, 0.0225894], \"c_PLP0011859_q.txt\")"
      ]
     },
     "execution_count": 5,
     "metadata": {},
     "output_type": "execute_result"
    }
   ],
   "source": [
    "data = Data1D(\"c_PLP0011859_q.txt\")"
   ]
  }
 ],
 "metadata": {
  "kernelspec": {
   "display_name": "Julia 1.5.3",
   "language": "julia",
   "name": "julia-1.5"
  },
  "language_info": {
   "file_extension": ".jl",
   "mimetype": "application/julia",
   "name": "julia",
   "version": "1.5.3"
  }
 },
 "nbformat": 4,
 "nbformat_minor": 4
}
