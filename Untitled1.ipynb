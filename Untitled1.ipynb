{
 "cells": [
  {
   "cell_type": "code",
   "execution_count": 1,
   "metadata": {},
   "outputs": [],
   "source": [
    "import Base: |\n",
    "abstract type Component end\n",
    "abstract type Scatterer end"
   ]
  },
  {
   "cell_type": "code",
   "execution_count": 2,
   "metadata": {},
   "outputs": [
    {
     "data": {
      "text/plain": [
       "| (generic function with 18 methods)"
      ]
     },
     "execution_count": 2,
     "metadata": {},
     "output_type": "execute_result"
    }
   ],
   "source": [
    "struct Structure <: AbstractArray{Component, 1}\n",
    "    components::Array{Component}\n",
    "end\n",
    "\n",
    "struct SLD <: Scatterer\n",
    "    real\n",
    "    imag\n",
    "end\n",
    "\n",
    "struct Slab <: Component\n",
    "    thickness\n",
    "    scatterer::Scatterer\n",
    "    roughness\n",
    "    vfsolv\n",
    "end\n",
    "\n",
    "function |(a::Component, b::Component)\n",
    "    return Structure([a, b])\n",
    "end\n",
    "\n",
    "function |(a::Component, b::Component)\n",
    "    return Structure([a, b])\n",
    "end"
   ]
  },
  {
   "cell_type": "code",
   "execution_count": 3,
   "metadata": {},
   "outputs": [
    {
     "data": {
      "text/plain": [
       "Slab(1.0, SLD(2.0, 0), 3.0, 4.0)"
      ]
     },
     "execution_count": 3,
     "metadata": {},
     "output_type": "execute_result"
    }
   ],
   "source": [
    "s = Slab(1.0, SLD(2.0, 0), 3.0, 4.0)"
   ]
  },
  {
   "cell_type": "code",
   "execution_count": 4,
   "metadata": {},
   "outputs": [
    {
     "data": {
      "text/plain": [
       "true"
      ]
     },
     "execution_count": 4,
     "metadata": {},
     "output_type": "execute_result"
    }
   ],
   "source": [
    "isa(s, Component)"
   ]
  },
  {
   "cell_type": "code",
   "execution_count": 5,
   "metadata": {},
   "outputs": [
    {
     "data": {
      "text/plain": [
       "SLD(2.0, 0)"
      ]
     },
     "execution_count": 5,
     "metadata": {},
     "output_type": "execute_result"
    }
   ],
   "source": [
    "s.scatterer"
   ]
  },
  {
   "cell_type": "code",
   "execution_count": 9,
   "metadata": {},
   "outputs": [
    {
     "ename": "MethodError",
     "evalue": "MethodError: no method matching size(::Structure)\nClosest candidates are:\n  size(::AbstractArray{T,N}, !Matched::Any) where {T, N} at abstractarray.jl:38\n  size(!Matched::Core.Compiler.StmtRange) at show.jl:1874\n  size(!Matched::BitArray{1}) at bitarray.jl:104\n  ...",
     "output_type": "error",
     "traceback": [
      "MethodError: no method matching size(::Structure)\nClosest candidates are:\n  size(::AbstractArray{T,N}, !Matched::Any) where {T, N} at abstractarray.jl:38\n  size(!Matched::Core.Compiler.StmtRange) at show.jl:1874\n  size(!Matched::BitArray{1}) at bitarray.jl:104\n  ...",
      "",
      "Stacktrace:",
      " [1] length at ./abstractarray.jl:206 [inlined]",
      " [2] isempty(::Structure) at ./abstractarray.jl:989",
      " [3] show(::IOContext{Base.GenericIOBuffer{Array{UInt8,1}}}, ::MIME{Symbol(\"text/plain\")}, ::Structure) at ./arrayshow.jl:323",
      " [4] limitstringmime(::MIME{Symbol(\"text/plain\")}, ::Structure) at /Users/andrew/.julia/packages/IJulia/IDNmS/src/inline.jl:43",
      " [5] display_mimestring(::MIME{Symbol(\"text/plain\")}, ::Structure) at /Users/andrew/.julia/packages/IJulia/IDNmS/src/display.jl:71",
      " [6] display_dict(::Structure) at /Users/andrew/.julia/packages/IJulia/IDNmS/src/display.jl:102",
      " [7] #invokelatest#1 at ./essentials.jl:710 [inlined]",
      " [8] invokelatest at ./essentials.jl:709 [inlined]",
      " [9] execute_request(::ZMQ.Socket, ::IJulia.Msg) at /Users/andrew/.julia/packages/IJulia/IDNmS/src/execute_request.jl:112",
      " [10] #invokelatest#1 at ./essentials.jl:710 [inlined]",
      " [11] invokelatest at ./essentials.jl:709 [inlined]",
      " [12] eventloop(::ZMQ.Socket) at /Users/andrew/.julia/packages/IJulia/IDNmS/src/eventloop.jl:8",
      " [13] (::IJulia.var\"#15#18\")() at ./task.jl:356"
     ]
    }
   ],
   "source": [
    "Structure([s])"
   ]
  },
  {
   "cell_type": "code",
   "execution_count": 7,
   "metadata": {},
   "outputs": [
    {
     "ename": "LoadError",
     "evalue": "MethodError: Cannot `convert` an object of type \n  Slab to an object of type \n  Array{Component,N} where N\nClosest candidates are:\n  convert(::Type{T}, !Matched::AbstractArray) where T<:Array at array.jl:554\n  convert(::Type{T}, !Matched::T) where T<:AbstractArray at abstractarray.jl:14\n  convert(::Type{T}, !Matched::LinearAlgebra.Factorization) where T<:AbstractArray at /Users/julia/buildbot/worker/package_macos64/build/usr/share/julia/stdlib/v1.5/LinearAlgebra/src/factorization.jl:55\n  ...",
     "output_type": "error",
     "traceback": [
      "MethodError: Cannot `convert` an object of type \n  Slab to an object of type \n  Array{Component,N} where N\nClosest candidates are:\n  convert(::Type{T}, !Matched::AbstractArray) where T<:Array at array.jl:554\n  convert(::Type{T}, !Matched::T) where T<:AbstractArray at abstractarray.jl:14\n  convert(::Type{T}, !Matched::LinearAlgebra.Factorization) where T<:AbstractArray at /Users/julia/buildbot/worker/package_macos64/build/usr/share/julia/stdlib/v1.5/LinearAlgebra/src/factorization.jl:55\n  ...",
      "",
      "Stacktrace:",
      " [1] Structure(::Slab) at ./In[2]:2",
      " [2] top-level scope at In[7]:1",
      " [3] include_string(::Function, ::Module, ::String, ::String) at ./loading.jl:1091"
     ]
    }
   ],
   "source": [
    "Structure(s)"
   ]
  },
  {
   "cell_type": "code",
   "execution_count": null,
   "metadata": {},
   "outputs": [],
   "source": []
  },
  {
   "cell_type": "code",
   "execution_count": null,
   "metadata": {},
   "outputs": [],
   "source": []
  }
 ],
 "metadata": {
  "kernelspec": {
   "display_name": "Julia 1.5.3",
   "language": "julia",
   "name": "julia-1.5"
  },
  "language_info": {
   "file_extension": ".jl",
   "mimetype": "application/julia",
   "name": "julia",
   "version": "1.5.3"
  }
 },
 "nbformat": 4,
 "nbformat_minor": 4
}
